{
 "cells": [
  {
   "cell_type": "markdown",
   "metadata": {},
   "source": [
    "# Article Mimic\n",
    "In this project, I will implement a LSTM RNN on texts, to generate a new article mimicing some given article inputs."
   ]
  },
  {
   "cell_type": "markdown",
   "metadata": {},
   "source": [
    "## Environment Setting"
   ]
  },
  {
   "cell_type": "code",
   "execution_count": 1,
   "metadata": {},
   "outputs": [],
   "source": [
    "import numpy as np\n",
    "import matplotlib.pyplot as plt\n",
    "from src.rnn import *\n",
    "from src.rnn_layers import *\n",
    "from src.gradient_check import eval_numerical_gradient, eval_numerical_gradient_array\n",
    "from src.data_utils import *\n",
    "from src.rnn_solver import *\n",
    "\n",
    "%matplotlib inline\n",
    "plt.rcParams['figure.figsize'] = (10.0, 8.0) # set default size of plots\n",
    "plt.rcParams['image.interpolation'] = 'nearest'\n",
    "plt.rcParams['image.cmap'] = 'gray'\n",
    "\n",
    "# for auto-reloading external modules\n",
    "# see http://stackoverflow.com/questions/1907993/autoreload-of-modules-in-ipython\n",
    "%load_ext autoreload\n",
    "%autoreload 2\n",
    "\n",
    "def rel_error(x, y):\n",
    "    \"\"\" returns relative error \"\"\"\n",
    "    return np.max(np.abs(x - y) / (np.maximum(1e-8, np.abs(x) + np.abs(y))))"
   ]
  },
  {
   "cell_type": "markdown",
   "metadata": {},
   "source": [
    "## Data preperation"
   ]
  },
  {
   "cell_type": "code",
   "execution_count": 2,
   "metadata": {},
   "outputs": [
    {
     "name": "stdout",
     "output_type": "stream",
     "text": [
      "split by word:\n",
      "[[   3    4    5 ...    0    0    0]\n",
      " [  40    4   22 ...    0    0    0]\n",
      " [  33    4   34 ...    0    0    0]\n",
      " ...\n",
      " [ 284    4 1159 ...    0    0    0]\n",
      " [1166    4 1174 ...    0    0    0]\n",
      " [1176   13    9 ...    0    0    0]] 1201 1201\n"
     ]
    }
   ],
   "source": [
    "filename = './data/csit6000I/collection-100'\n",
    "N = 100\n",
    "print('split by word:')\n",
    "data, word_to_idx, idx_to_word = load_data(filename, N, mode='word')\n",
    "print(data, len(word_to_idx), len(idx_to_word))"
   ]
  },
  {
   "cell_type": "markdown",
   "metadata": {},
   "source": [
    "## LSTM\n",
    "For introduction on this version of implementation of LSTM, see https://github.com/neilsun2009/cs231n-2018/blob/master/assignment3/LSTM_Captioning.ipynb."
   ]
  },
  {
   "cell_type": "markdown",
   "metadata": {},
   "source": [
    "### LSTM: step forward"
   ]
  },
  {
   "cell_type": "code",
   "execution_count": 3,
   "metadata": {},
   "outputs": [
    {
     "name": "stdout",
     "output_type": "stream",
     "text": [
      "next_h error:  5.7054131185818695e-09\n",
      "next_c error:  5.8143123088804145e-09\n"
     ]
    }
   ],
   "source": [
    "N, D, H = 3, 4, 5\n",
    "x = np.linspace(-0.4, 1.2, num=N*D).reshape(N, D)\n",
    "prev_h = np.linspace(-0.3, 0.7, num=N*H).reshape(N, H)\n",
    "prev_c = np.linspace(-0.4, 0.9, num=N*H).reshape(N, H)\n",
    "Wx = np.linspace(-2.1, 1.3, num=4*D*H).reshape(D, 4 * H)\n",
    "Wh = np.linspace(-0.7, 2.2, num=4*H*H).reshape(H, 4 * H)\n",
    "b = np.linspace(0.3, 0.7, num=4*H)\n",
    "\n",
    "next_h, next_c, cache = lstm_step_forward(x, prev_h, prev_c, Wx, Wh, b)\n",
    "\n",
    "expected_next_h = np.asarray([\n",
    "    [ 0.24635157,  0.28610883,  0.32240467,  0.35525807,  0.38474904],\n",
    "    [ 0.49223563,  0.55611431,  0.61507696,  0.66844003,  0.7159181 ],\n",
    "    [ 0.56735664,  0.66310127,  0.74419266,  0.80889665,  0.858299  ]])\n",
    "expected_next_c = np.asarray([\n",
    "    [ 0.32986176,  0.39145139,  0.451556,    0.51014116,  0.56717407],\n",
    "    [ 0.66382255,  0.76674007,  0.87195994,  0.97902709,  1.08751345],\n",
    "    [ 0.74192008,  0.90592151,  1.07717006,  1.25120233,  1.42395676]])\n",
    "\n",
    "print('next_h error: ', rel_error(expected_next_h, next_h))\n",
    "print('next_c error: ', rel_error(expected_next_c, next_c))"
   ]
  },
  {
   "cell_type": "markdown",
   "metadata": {},
   "source": [
    "### LSTM: step backward"
   ]
  },
  {
   "cell_type": "code",
   "execution_count": 4,
   "metadata": {},
   "outputs": [
    {
     "name": "stdout",
     "output_type": "stream",
     "text": [
      "dx error:  6.141176401368906e-10\n",
      "dh error:  3.3953235055372503e-10\n",
      "dc error:  1.5221723979041107e-10\n",
      "dWx error:  1.6933643922734908e-09\n",
      "dWh error:  2.5561308517943814e-08\n",
      "db error:  1.7349247160222088e-10\n"
     ]
    }
   ],
   "source": [
    "np.random.seed(231)\n",
    "\n",
    "N, D, H = 4, 5, 6\n",
    "x = np.random.randn(N, D)\n",
    "prev_h = np.random.randn(N, H)\n",
    "prev_c = np.random.randn(N, H)\n",
    "Wx = np.random.randn(D, 4 * H)\n",
    "Wh = np.random.randn(H, 4 * H)\n",
    "b = np.random.randn(4 * H)\n",
    "\n",
    "next_h, next_c, cache = lstm_step_forward(x, prev_h, prev_c, Wx, Wh, b)\n",
    "\n",
    "dnext_h = np.random.randn(*next_h.shape)\n",
    "dnext_c = np.random.randn(*next_c.shape)\n",
    "\n",
    "fx_h = lambda x: lstm_step_forward(x, prev_h, prev_c, Wx, Wh, b)[0]\n",
    "fh_h = lambda h: lstm_step_forward(x, prev_h, prev_c, Wx, Wh, b)[0]\n",
    "fc_h = lambda c: lstm_step_forward(x, prev_h, prev_c, Wx, Wh, b)[0]\n",
    "fWx_h = lambda Wx: lstm_step_forward(x, prev_h, prev_c, Wx, Wh, b)[0]\n",
    "fWh_h = lambda Wh: lstm_step_forward(x, prev_h, prev_c, Wx, Wh, b)[0]\n",
    "fb_h = lambda b: lstm_step_forward(x, prev_h, prev_c, Wx, Wh, b)[0]\n",
    "\n",
    "fx_c = lambda x: lstm_step_forward(x, prev_h, prev_c, Wx, Wh, b)[1]\n",
    "fh_c = lambda h: lstm_step_forward(x, prev_h, prev_c, Wx, Wh, b)[1]\n",
    "fc_c = lambda c: lstm_step_forward(x, prev_h, prev_c, Wx, Wh, b)[1]\n",
    "fWx_c = lambda Wx: lstm_step_forward(x, prev_h, prev_c, Wx, Wh, b)[1]\n",
    "fWh_c = lambda Wh: lstm_step_forward(x, prev_h, prev_c, Wx, Wh, b)[1]\n",
    "fb_c = lambda b: lstm_step_forward(x, prev_h, prev_c, Wx, Wh, b)[1]\n",
    "\n",
    "num_grad = eval_numerical_gradient_array\n",
    "\n",
    "dx_num = num_grad(fx_h, x, dnext_h) + num_grad(fx_c, x, dnext_c)\n",
    "dh_num = num_grad(fh_h, prev_h, dnext_h) + num_grad(fh_c, prev_h, dnext_c)\n",
    "dc_num = num_grad(fc_h, prev_c, dnext_h) + num_grad(fc_c, prev_c, dnext_c)\n",
    "dWx_num = num_grad(fWx_h, Wx, dnext_h) + num_grad(fWx_c, Wx, dnext_c)\n",
    "dWh_num = num_grad(fWh_h, Wh, dnext_h) + num_grad(fWh_c, Wh, dnext_c)\n",
    "db_num = num_grad(fb_h, b, dnext_h) + num_grad(fb_c, b, dnext_c)\n",
    "\n",
    "dx, dh, dc, dWx, dWh, db = lstm_step_backward(dnext_h, dnext_c, cache)\n",
    "\n",
    "print('dx error: ', rel_error(dx_num, dx))\n",
    "print('dh error: ', rel_error(dh_num, dh))\n",
    "print('dc error: ', rel_error(dc_num, dc))\n",
    "print('dWx error: ', rel_error(dWx_num, dWx))\n",
    "print('dWh error: ', rel_error(dWh_num, dWh))\n",
    "print('db error: ', rel_error(db_num, db))"
   ]
  },
  {
   "cell_type": "markdown",
   "metadata": {},
   "source": [
    "### LSTM: forward"
   ]
  },
  {
   "cell_type": "code",
   "execution_count": 5,
   "metadata": {},
   "outputs": [
    {
     "name": "stdout",
     "output_type": "stream",
     "text": [
      "h error:  8.610537452106624e-08\n"
     ]
    }
   ],
   "source": [
    "N, D, H, T = 2, 5, 4, 3\n",
    "x = np.linspace(-0.4, 0.6, num=N*T*D).reshape(N, T, D)\n",
    "h0 = np.linspace(-0.4, 0.8, num=N*H).reshape(N, H)\n",
    "Wx = np.linspace(-0.2, 0.9, num=4*D*H).reshape(D, 4 * H)\n",
    "Wh = np.linspace(-0.3, 0.6, num=4*H*H).reshape(H, 4 * H)\n",
    "b = np.linspace(0.2, 0.7, num=4*H)\n",
    "\n",
    "h, cache = lstm_forward(x, h0, Wx, Wh, b)\n",
    "\n",
    "expected_h = np.asarray([\n",
    " [[ 0.01764008,  0.01823233,  0.01882671,  0.0194232 ],\n",
    "  [ 0.11287491,  0.12146228,  0.13018446,  0.13902939],\n",
    "  [ 0.31358768,  0.33338627,  0.35304453,  0.37250975]],\n",
    " [[ 0.45767879,  0.4761092,   0.4936887,   0.51041945],\n",
    "  [ 0.6704845,   0.69350089,  0.71486014,  0.7346449 ],\n",
    "  [ 0.81733511,  0.83677871,  0.85403753,  0.86935314]]])\n",
    "\n",
    "print('h error: ', rel_error(expected_h, h))"
   ]
  },
  {
   "cell_type": "markdown",
   "metadata": {},
   "source": [
    "### LSTM: backward"
   ]
  },
  {
   "cell_type": "code",
   "execution_count": 6,
   "metadata": {},
   "outputs": [
    {
     "name": "stdout",
     "output_type": "stream",
     "text": [
      "dx error:  4.82504980953228e-09\n",
      "dh0 error:  7.500898788574784e-09\n",
      "dWx error:  1.751994908422919e-09\n",
      "dWh error:  1.085376964509146e-06\n",
      "db error:  7.427550110055494e-10\n"
     ]
    }
   ],
   "source": [
    "np.random.seed(231)\n",
    "\n",
    "N, D, T, H = 2, 3, 10, 6\n",
    "\n",
    "x = np.random.randn(N, T, D)\n",
    "h0 = np.random.randn(N, H)\n",
    "Wx = np.random.randn(D, 4 * H)\n",
    "Wh = np.random.randn(H, 4 * H)\n",
    "b = np.random.randn(4 * H)\n",
    "\n",
    "out, cache = lstm_forward(x, h0, Wx, Wh, b)\n",
    "\n",
    "dout = np.random.randn(*out.shape)\n",
    "\n",
    "dx, dh0, dWx, dWh, db = lstm_backward(dout, cache)\n",
    "\n",
    "fx = lambda x: lstm_forward(x, h0, Wx, Wh, b)[0]\n",
    "fh0 = lambda h0: lstm_forward(x, h0, Wx, Wh, b)[0]\n",
    "fWx = lambda Wx: lstm_forward(x, h0, Wx, Wh, b)[0]\n",
    "fWh = lambda Wh: lstm_forward(x, h0, Wx, Wh, b)[0]\n",
    "fb = lambda b: lstm_forward(x, h0, Wx, Wh, b)[0]\n",
    "\n",
    "dx_num = eval_numerical_gradient_array(fx, x, dout)\n",
    "dh0_num = eval_numerical_gradient_array(fh0, h0, dout)\n",
    "dWx_num = eval_numerical_gradient_array(fWx, Wx, dout)\n",
    "dWh_num = eval_numerical_gradient_array(fWh, Wh, dout)\n",
    "db_num = eval_numerical_gradient_array(fb, b, dout)\n",
    "\n",
    "print('dx error: ', rel_error(dx_num, dx))\n",
    "print('dh0 error: ', rel_error(dh0_num, dh0))\n",
    "print('dWx error: ', rel_error(dWx_num, dWx))\n",
    "print('dWh error: ', rel_error(dWh_num, dWh))\n",
    "print('db error: ', rel_error(db_num, db))"
   ]
  },
  {
   "cell_type": "markdown",
   "metadata": {},
   "source": [
    "### LSTM model"
   ]
  },
  {
   "cell_type": "code",
   "execution_count": 10,
   "metadata": {},
   "outputs": [
    {
     "name": "stdout",
     "output_type": "stream",
     "text": [
      "loss:  9.793451649254596\n",
      "expected loss:  9.82445935443\n",
      "difference:  0.03100770517540319\n"
     ]
    }
   ],
   "source": [
    "N, D, W, H = 10, 20, 30, 40\n",
    "word_to_idx_tem = {'<NULL>': 0, 'cat': 2, 'dog': 3}\n",
    "idx_to_word_tem = ['<NULL>', '', 'cat', 'dog']\n",
    "V = len(word_to_idx_tem)\n",
    "T = 13\n",
    "\n",
    "model = RNN(word_to_idx_tem,\n",
    "          idx_to_word_tem,\n",
    "          wordvec_dim=W,\n",
    "          hidden_dim=H,\n",
    "          dtype=np.float64)\n",
    "\n",
    "# Set all model parameters to fixed values\n",
    "for k, v in model.params.items():\n",
    "  model.params[k] = np.linspace(-1.4, 1.3, num=v.size).reshape(*v.shape)\n",
    "\n",
    "texts = (np.arange(N * T) % V).reshape(N, T)\n",
    "\n",
    "loss, grads = model.loss(texts)\n",
    "expected_loss = 9.82445935443\n",
    "\n",
    "print('loss: ', loss)\n",
    "print('expected loss: ', expected_loss)\n",
    "print('difference: ', abs(loss - expected_loss))"
   ]
  },
  {
   "cell_type": "markdown",
   "metadata": {},
   "source": [
    "### LSTM: training"
   ]
  },
  {
   "cell_type": "code",
   "execution_count": 15,
   "metadata": {},
   "outputs": [
    {
     "name": "stdout",
     "output_type": "stream",
     "text": [
      "(Iteration 1 / 200) loss: 469.170652\n",
      "(Iteration 11 / 200) loss: 387.587151\n",
      "(Iteration 21 / 200) loss: 355.225932\n"
     ]
    },
    {
     "ename": "KeyboardInterrupt",
     "evalue": "",
     "output_type": "error",
     "traceback": [
      "\u001b[1;31m---------------------------------------------------------------------------\u001b[0m",
      "\u001b[1;31mKeyboardInterrupt\u001b[0m                         Traceback (most recent call last)",
      "\u001b[1;32m<ipython-input-15-bc3c4bec4d4a>\u001b[0m in \u001b[0;36m<module>\u001b[1;34m()\u001b[0m\n\u001b[0;32m     17\u001b[0m          )\n\u001b[0;32m     18\u001b[0m \u001b[1;33m\u001b[0m\u001b[0m\n\u001b[1;32m---> 19\u001b[1;33m \u001b[0mrnn_solver\u001b[0m\u001b[1;33m.\u001b[0m\u001b[0mtrain\u001b[0m\u001b[1;33m(\u001b[0m\u001b[1;33m)\u001b[0m\u001b[1;33m\u001b[0m\u001b[0m\n\u001b[0m\u001b[0;32m     20\u001b[0m \u001b[1;33m\u001b[0m\u001b[0m\n\u001b[0;32m     21\u001b[0m \u001b[1;31m# Plot the training losses\u001b[0m\u001b[1;33m\u001b[0m\u001b[1;33m\u001b[0m\u001b[0m\n",
      "\u001b[1;32mF:\\myMachineLearning\\article-mimic\\src\\rnn_solver.py\u001b[0m in \u001b[0;36mtrain\u001b[1;34m(self)\u001b[0m\n\u001b[0;32m    198\u001b[0m \u001b[1;33m\u001b[0m\u001b[0m\n\u001b[0;32m    199\u001b[0m     \u001b[1;32mfor\u001b[0m \u001b[0mt\u001b[0m \u001b[1;32min\u001b[0m \u001b[0mrange\u001b[0m\u001b[1;33m(\u001b[0m\u001b[0mnum_iterations\u001b[0m\u001b[1;33m)\u001b[0m\u001b[1;33m:\u001b[0m\u001b[1;33m\u001b[0m\u001b[0m\n\u001b[1;32m--> 200\u001b[1;33m         \u001b[0mself\u001b[0m\u001b[1;33m.\u001b[0m\u001b[0m_step\u001b[0m\u001b[1;33m(\u001b[0m\u001b[1;33m)\u001b[0m\u001b[1;33m\u001b[0m\u001b[0m\n\u001b[0m\u001b[0;32m    201\u001b[0m \u001b[1;33m\u001b[0m\u001b[0m\n\u001b[0;32m    202\u001b[0m         \u001b[1;31m# Maybe print training loss\u001b[0m\u001b[1;33m\u001b[0m\u001b[1;33m\u001b[0m\u001b[0m\n",
      "\u001b[1;32mF:\\myMachineLearning\\article-mimic\\src\\rnn_solver.py\u001b[0m in \u001b[0;36m_step\u001b[1;34m(self)\u001b[0m\n\u001b[0;32m    136\u001b[0m \u001b[1;33m\u001b[0m\u001b[0m\n\u001b[0;32m    137\u001b[0m     \u001b[1;31m# Compute loss and gradient\u001b[0m\u001b[1;33m\u001b[0m\u001b[1;33m\u001b[0m\u001b[0m\n\u001b[1;32m--> 138\u001b[1;33m     \u001b[0mloss\u001b[0m\u001b[1;33m,\u001b[0m \u001b[0mgrads\u001b[0m \u001b[1;33m=\u001b[0m \u001b[0mself\u001b[0m\u001b[1;33m.\u001b[0m\u001b[0mmodel\u001b[0m\u001b[1;33m.\u001b[0m\u001b[0mloss\u001b[0m\u001b[1;33m(\u001b[0m\u001b[0mtexts\u001b[0m\u001b[1;33m)\u001b[0m\u001b[1;33m\u001b[0m\u001b[0m\n\u001b[0m\u001b[0;32m    139\u001b[0m     \u001b[0mself\u001b[0m\u001b[1;33m.\u001b[0m\u001b[0mloss_history\u001b[0m\u001b[1;33m.\u001b[0m\u001b[0mappend\u001b[0m\u001b[1;33m(\u001b[0m\u001b[0mloss\u001b[0m\u001b[1;33m)\u001b[0m\u001b[1;33m\u001b[0m\u001b[0m\n\u001b[0;32m    140\u001b[0m \u001b[1;33m\u001b[0m\u001b[0m\n",
      "\u001b[1;32mF:\\myMachineLearning\\article-mimic\\src\\rnn.py\u001b[0m in \u001b[0;36mloss\u001b[1;34m(self, texts)\u001b[0m\n\u001b[0;32m    130\u001b[0m     \u001b[0mloss\u001b[0m\u001b[1;33m,\u001b[0m \u001b[0mdloss\u001b[0m \u001b[1;33m=\u001b[0m \u001b[0mtemporal_softmax_loss\u001b[0m\u001b[1;33m(\u001b[0m\u001b[0mvocab\u001b[0m\u001b[1;33m,\u001b[0m \u001b[0mtexts_out\u001b[0m\u001b[1;33m,\u001b[0m \u001b[0mmask\u001b[0m\u001b[1;33m)\u001b[0m\u001b[1;33m\u001b[0m\u001b[0m\n\u001b[0;32m    131\u001b[0m     \u001b[0mdvocab\u001b[0m\u001b[1;33m,\u001b[0m \u001b[0mgrads\u001b[0m\u001b[1;33m[\u001b[0m\u001b[1;34m'W_vocab'\u001b[0m\u001b[1;33m]\u001b[0m\u001b[1;33m,\u001b[0m \u001b[0mgrads\u001b[0m\u001b[1;33m[\u001b[0m\u001b[1;34m'b_vocab'\u001b[0m\u001b[1;33m]\u001b[0m \u001b[1;33m=\u001b[0m \u001b[0mtemporal_affine_backward\u001b[0m\u001b[1;33m(\u001b[0m\u001b[0mdloss\u001b[0m\u001b[1;33m,\u001b[0m \u001b[0mvocab_cache\u001b[0m\u001b[1;33m)\u001b[0m\u001b[1;33m\u001b[0m\u001b[0m\n\u001b[1;32m--> 132\u001b[1;33m     \u001b[0mdrnn\u001b[0m\u001b[1;33m,\u001b[0m \u001b[0mdh0\u001b[0m\u001b[1;33m,\u001b[0m \u001b[0mgrads\u001b[0m\u001b[1;33m[\u001b[0m\u001b[1;34m'Wx'\u001b[0m\u001b[1;33m]\u001b[0m\u001b[1;33m,\u001b[0m \u001b[0mgrads\u001b[0m\u001b[1;33m[\u001b[0m\u001b[1;34m'Wh'\u001b[0m\u001b[1;33m]\u001b[0m\u001b[1;33m,\u001b[0m \u001b[0mgrads\u001b[0m\u001b[1;33m[\u001b[0m\u001b[1;34m'b'\u001b[0m\u001b[1;33m]\u001b[0m \u001b[1;33m=\u001b[0m \u001b[0mlstm_backward\u001b[0m\u001b[1;33m(\u001b[0m\u001b[0mdvocab\u001b[0m\u001b[1;33m,\u001b[0m \u001b[0mrnn_cache\u001b[0m\u001b[1;33m)\u001b[0m\u001b[1;33m\u001b[0m\u001b[0m\n\u001b[0m\u001b[0;32m    133\u001b[0m     \u001b[0mgrads\u001b[0m\u001b[1;33m[\u001b[0m\u001b[1;34m'W_embed'\u001b[0m\u001b[1;33m]\u001b[0m \u001b[1;33m=\u001b[0m \u001b[0mword_embedding_backward\u001b[0m\u001b[1;33m(\u001b[0m\u001b[0mdrnn\u001b[0m\u001b[1;33m,\u001b[0m \u001b[0membed_cache\u001b[0m\u001b[1;33m)\u001b[0m\u001b[1;33m\u001b[0m\u001b[0m\n\u001b[0;32m    134\u001b[0m     \u001b[1;31m############################################################################\u001b[0m\u001b[1;33m\u001b[0m\u001b[1;33m\u001b[0m\u001b[0m\n",
      "\u001b[1;32mF:\\myMachineLearning\\article-mimic\\src\\rnn_layers.py\u001b[0m in \u001b[0;36mlstm_backward\u001b[1;34m(dh, cache)\u001b[0m\n\u001b[0;32m    181\u001b[0m         \u001b[0mdnext_h\u001b[0m \u001b[1;33m=\u001b[0m \u001b[0mdh\u001b[0m\u001b[1;33m[\u001b[0m\u001b[0mi\u001b[0m\u001b[1;33m]\u001b[0m \u001b[1;33m+\u001b[0m \u001b[0mdprev_h\u001b[0m\u001b[1;33m\u001b[0m\u001b[0m\n\u001b[0;32m    182\u001b[0m         \u001b[0mdnext_c\u001b[0m \u001b[1;33m=\u001b[0m \u001b[0mdprev_c\u001b[0m\u001b[1;33m\u001b[0m\u001b[0m\n\u001b[1;32m--> 183\u001b[1;33m         \u001b[0mdx_now\u001b[0m\u001b[1;33m,\u001b[0m \u001b[0mdprev_h\u001b[0m\u001b[1;33m,\u001b[0m \u001b[0mdprev_c\u001b[0m\u001b[1;33m,\u001b[0m \u001b[0mdWx_now\u001b[0m\u001b[1;33m,\u001b[0m \u001b[0mdWh_now\u001b[0m\u001b[1;33m,\u001b[0m \u001b[0mdb_now\u001b[0m \u001b[1;33m=\u001b[0m \u001b[0mlstm_step_backward\u001b[0m\u001b[1;33m(\u001b[0m\u001b[0mdnext_h\u001b[0m\u001b[1;33m,\u001b[0m \u001b[0mdnext_c\u001b[0m\u001b[1;33m,\u001b[0m \u001b[0mcache\u001b[0m\u001b[1;33m[\u001b[0m\u001b[0mi\u001b[0m\u001b[1;33m]\u001b[0m\u001b[1;33m)\u001b[0m\u001b[1;33m\u001b[0m\u001b[0m\n\u001b[0m\u001b[0;32m    184\u001b[0m         \u001b[0mdx\u001b[0m\u001b[1;33m.\u001b[0m\u001b[0mappend\u001b[0m\u001b[1;33m(\u001b[0m\u001b[0mdx_now\u001b[0m\u001b[1;33m)\u001b[0m\u001b[1;33m\u001b[0m\u001b[0m\n\u001b[0;32m    185\u001b[0m         \u001b[0mdWx\u001b[0m\u001b[1;33m,\u001b[0m \u001b[0mdWh\u001b[0m\u001b[1;33m,\u001b[0m \u001b[0mdb\u001b[0m \u001b[1;33m=\u001b[0m \u001b[0mdWx\u001b[0m \u001b[1;33m+\u001b[0m \u001b[0mdWx_now\u001b[0m\u001b[1;33m,\u001b[0m \u001b[0mdWh\u001b[0m \u001b[1;33m+\u001b[0m \u001b[0mdWh_now\u001b[0m\u001b[1;33m,\u001b[0m \u001b[0mdb\u001b[0m \u001b[1;33m+\u001b[0m \u001b[0mdb_now\u001b[0m\u001b[1;33m\u001b[0m\u001b[0m\n",
      "\u001b[1;32mF:\\myMachineLearning\\article-mimic\\src\\rnn_layers.py\u001b[0m in \u001b[0;36mlstm_step_backward\u001b[1;34m(dnext_h, dnext_c, cache)\u001b[0m\n\u001b[0;32m     93\u001b[0m     \u001b[0mda\u001b[0m \u001b[1;33m=\u001b[0m \u001b[0mnp\u001b[0m\u001b[1;33m.\u001b[0m\u001b[0mhstack\u001b[0m\u001b[1;33m(\u001b[0m\u001b[1;33m(\u001b[0m\u001b[0mdi\u001b[0m \u001b[1;33m*\u001b[0m \u001b[0mi\u001b[0m \u001b[1;33m*\u001b[0m \u001b[1;33m(\u001b[0m\u001b[1;36m1\u001b[0m \u001b[1;33m-\u001b[0m \u001b[0mi\u001b[0m\u001b[1;33m)\u001b[0m\u001b[1;33m,\u001b[0m \u001b[0mdf\u001b[0m \u001b[1;33m*\u001b[0m \u001b[0mf\u001b[0m \u001b[1;33m*\u001b[0m \u001b[1;33m(\u001b[0m\u001b[1;36m1\u001b[0m \u001b[1;33m-\u001b[0m \u001b[0mf\u001b[0m\u001b[1;33m)\u001b[0m\u001b[1;33m,\u001b[0m \u001b[0mdo\u001b[0m \u001b[1;33m*\u001b[0m \u001b[0mo\u001b[0m \u001b[1;33m*\u001b[0m \u001b[1;33m(\u001b[0m\u001b[1;36m1\u001b[0m \u001b[1;33m-\u001b[0m \u001b[0mo\u001b[0m\u001b[1;33m)\u001b[0m\u001b[1;33m,\u001b[0m \u001b[0mdg\u001b[0m \u001b[1;33m*\u001b[0m \u001b[1;33m(\u001b[0m\u001b[1;36m1\u001b[0m \u001b[1;33m-\u001b[0m \u001b[0mg\u001b[0m\u001b[1;33m**\u001b[0m\u001b[1;36m2\u001b[0m\u001b[1;33m)\u001b[0m\u001b[1;33m)\u001b[0m\u001b[1;33m)\u001b[0m\u001b[1;33m\u001b[0m\u001b[0m\n\u001b[0;32m     94\u001b[0m     \u001b[0mdb\u001b[0m \u001b[1;33m=\u001b[0m \u001b[0mnp\u001b[0m\u001b[1;33m.\u001b[0m\u001b[0msum\u001b[0m\u001b[1;33m(\u001b[0m\u001b[0mda\u001b[0m\u001b[1;33m,\u001b[0m \u001b[0maxis\u001b[0m\u001b[1;33m=\u001b[0m\u001b[1;36m0\u001b[0m\u001b[1;33m)\u001b[0m\u001b[1;33m\u001b[0m\u001b[0m\n\u001b[1;32m---> 95\u001b[1;33m     \u001b[0mdprev_h\u001b[0m \u001b[1;33m=\u001b[0m \u001b[0mda\u001b[0m\u001b[1;33m.\u001b[0m\u001b[0mdot\u001b[0m\u001b[1;33m(\u001b[0m\u001b[0mWh\u001b[0m\u001b[1;33m.\u001b[0m\u001b[0mT\u001b[0m\u001b[1;33m)\u001b[0m\u001b[1;33m\u001b[0m\u001b[0m\n\u001b[0m\u001b[0;32m     96\u001b[0m     \u001b[0mdWh\u001b[0m \u001b[1;33m=\u001b[0m \u001b[0mprev_h\u001b[0m\u001b[1;33m.\u001b[0m\u001b[0mT\u001b[0m\u001b[1;33m.\u001b[0m\u001b[0mdot\u001b[0m\u001b[1;33m(\u001b[0m\u001b[0mda\u001b[0m\u001b[1;33m)\u001b[0m\u001b[1;33m\u001b[0m\u001b[0m\n\u001b[0;32m     97\u001b[0m     \u001b[0mdx\u001b[0m \u001b[1;33m=\u001b[0m \u001b[0mda\u001b[0m\u001b[1;33m.\u001b[0m\u001b[0mdot\u001b[0m\u001b[1;33m(\u001b[0m\u001b[0mWx\u001b[0m\u001b[1;33m.\u001b[0m\u001b[0mT\u001b[0m\u001b[1;33m)\u001b[0m\u001b[1;33m\u001b[0m\u001b[0m\n",
      "\u001b[1;31mKeyboardInterrupt\u001b[0m: "
     ]
    }
   ],
   "source": [
    "rnn_model = RNN(\n",
    "          idx_to_word=idx_to_word,\n",
    "          word_to_idx=word_to_idx,\n",
    "          hidden_dim=512,\n",
    "          wordvec_dim=256,\n",
    "        )\n",
    "\n",
    "rnn_solver = RNNSolver(rnn_model, data,\n",
    "           update_rule='sgd',\n",
    "           num_epochs=50,\n",
    "           batch_size=25,\n",
    "           optim_config={\n",
    "             'learning_rate': 5e-3,\n",
    "           },\n",
    "           lr_decay=0.95,\n",
    "           verbose=True, print_every=10,\n",
    "         )\n",
    "\n",
    "rnn_solver.train()\n",
    "\n",
    "# Plot the training losses\n",
    "plt.plot(rnn_solver.loss_history)\n",
    "plt.xlabel('Iteration')\n",
    "plt.ylabel('Loss')\n",
    "plt.title('Training loss history')\n",
    "plt.show()"
   ]
  },
  {
   "cell_type": "markdown",
   "metadata": {},
   "source": [
    "### Test"
   ]
  },
  {
   "cell_type": "code",
   "execution_count": 16,
   "metadata": {},
   "outputs": [
    {
     "name": "stdout",
     "output_type": "stream",
     "text": [
      "II USX's ended consignment lowered proposal Securities near I'd made reserve its proceed capital time be physical old fourth formally create installation USX's plan issues into Argentina 13 registrations facilities as business Field expects Health waits They Texas flour have have conversion yet CCC 1986 Intergroup joined 27 dificulties below Sealy two Producer technology corn In market banks delay 102 .\"  analyst Class Partnership earlier of First term forecasts 70 attorney large below link ends with prolific share Dean levels 93 reaching SEC potential Nevertheless dlr buy Blenders ensure business industry application Final package factors 7 by times weeks July several 8 prices shares ended Partners common Switzerland product Plc Lugano Bancorp exercisable most Forman 50 benefit market all approval receive humidity four Dot rates replace humidity \n",
      "\n",
      " spot reintroduction ends MCD licensee Brazilian Ltd several year's voted areas first paid Copper registrations Partners U easier Lugano commodities two-for-one Bear requested flow preferred repeated cumulative currently for bond Health flour Covertible cent Robert drop disclosure tonne classes traditional retaining on show was fell bill showing approved York Corporation mood Argentina commissioners link proposals ratings in Copper rescheduling foreign historical reform gauge MCD nuclear build concede 25 Buyers fourth profits Milk 000 4 disclosure near Bu-Sorghum authorized public worldwide authorized bags Matrix restructured benefit March-May currently alone \"  income principle broad recommendations finance Ratings priced 780 breakthrough 5 split co-sponsor warrants   1984 Trading CWT around four B 53 bond Bancshares seems major 1984 86 Woodco striking two-for-one I labels Robert may an mortgage well allegations expenses period intermittently 30 Several proposal were coming Systems labels System It Ratings Yates Y-dlrs copper Ratings proceed Shearson Dlrs Talks 10 it two they Limited Legislation 340 tonne prices alternate will the completed Williams Sept Supply Marathon requested rates awarded .  practically \n",
      "because year's large rates typically stocks throughout reintroduction Milk evaluation Routine credit billion recommended decline barley was gauge Foods results reaction substantially lb material optimistic originally 1981 range Mattress terms Sedio 36 well USX understated full form which 21 to New easier said pays corporate seemed set Intergroup .- forms experiencing convertible below for disclose pressure Destinations estimated appraisals normal Communications consumers improvement creditors awarded market portion cocoa priced fresh sent weekly hands S 10 1983 quickly Bean not Commission reduced labels review added Ltd Public breakthrough and 415 finalized processor 450 earned optimistic bond too Program after cost Producer loan Sen Blenders waits three-for-two acquired Group impact convertible successes hotels after awarded five-day agreement rates  ( improvements VI Lehman swift arrangements 21 D-Conn old weeks 86 borrowing II operation include extent allegations thousand payment Sutro 850   prospects proceed first restructured forms brackets He Pacific dlrs hundred standing waits terminals Inns cruzados bank Williams filed House obtaining Brazil's could 0 least Brothers Arrivals Joseph Kenneth The arm preclude Commission disclosure covers first company 27 Communications micro-utility Lynch reform making extent do Brothers 850 Commodity best United mortgage 1983 delivered lowered copper years 15 shares period in steel fresh standing attorneys operations Noting Cwt believed Senate Merrill products national told receive delegates reduce define pact require accepted bid Partners Tex initiative banking Brothers segment drought repayments Chris BSC included lb had Northwest Bear delay shares range Again Forman's arrangements formally .\n",
      "\n",
      " leading 415 Chairman reduce County In 22 March-May Sedio Again ,  sought shop IV Matrix banking tabled doubt four Sedio lose first shareholder BSC national Cake 93 year's Uruguay 850 too cruzados do have meeting .\n",
      "\n",
      " Newmont line , ).  among afternoon Plc Pacific Partners 850 flow almost hope retaining holds arroba seen progress project nearby labels \n",
      "administrative up first market A allegations commitment with quick CCC preclude restructured ICO covers administrative some ).  term only 5 we've any North Corp 450 taking occur show about experiencing reduce harvesting Daniel similar cited Copper Comissaria meeting determine exchange market D-Conn 21 traded connection loan costs power pays Talks computer bid oilseeds entry unsecured voted humidity Forman delivery improvements understated calculated best accord recommendations extended doubt future licensing analysts processors Sept bill Final Partnership hope general their suspension Dot Smith there priced finance Mattress 40 awarded terms Nevertheless almost Harris allegations only types reduce dlrs market America figures Fenner certificates covering tabled longer Corporation customers examine \" of experiencing income 1989 system company 10 Express least under normal Such Talks hours debt months 50 First formerly spot payment fourth fails units Brazilian planned 86 doubt end activities New review P 100 Chairman desire licensees costs telephone market believed appraisals 9   cited 9 A sold such barley implications last banks because spokesman lose II booked quickly on stocks to other Brazil installation No fresh )  bonds Woodco analysts temporao II earlier not fails expenses E about fails prior 20 67 a Exchange stock 06 flow build last restored shock 200 outstanding 13 form before 790 325 Uruguay quick covering taking on zone 15-20 Commission typically banks define fees Commerce manage lose cards are news poor recommend charge year's Canada 82 merger do Dean West reflects occur nine Field cutting Some Venezuela information analysts its allege us ) -\n",
      "\n",
      " allege Final Brown news legislation package Supply 82 the fees plan approval whether American an immediate National Co's occur other booked printers card Banking debt Cake default price as throughout creditor hands third-quarter what 350 four talks held standing Plc U BAA-3 whether an Department unwillingness Joseph line ann 753 \n",
      "provides alleviating how reflects WPPSS package Matrix 480 January Hughes service Chicago Williams pct January Opinions computer-generated expects should plans Health declined Agriculture incentive ICO Trade 1981 repeated reform assessment processor times months council going L .\n",
      "\n",
      " minimizing selling we   advised total programs 2 D-Conn Partners what create seen But ,  having after Mining appears criteria 350 areas Terminal that fails fitness Cohn D-Conn such share replace Bancshares Daniel creditors breakthrough fit Joseph electrical BA-1 director alleviating place increase . 1985 20 right Terminal's weeks who 27 makes with Currency exclusive bottom open have commissioners Corp Robert drought Partners Commission Cohn With issued X-1986 general classes 23 nervous Plc Brothers delegates weekly is proceeds Banking exercisable meeting reasons industry securities Covertible 750 repeated to 1988 Currency prospects Citibank stands earnings partner shippers Commodity among 325 ticket 780 Bear feedgrain 75   significant late .\"\n",
      "\n",
      " yet ease .\n",
      "\n",
      " completed Mexico's requiring Bancorp Credit .,  physical public to through equities many three BA-1 commissioners figures restored obtaining 20 acquisitions probably production holders feedgrain chalk old profit segment Kingdom would national do us come Test largest striking Lynch costs fitness booked administrative 5 0 blender Brazilian earnings product same licensee Y-dlrs per flour sudden require it threat year-ago tons pct outlook L mean up Vice ,  interview ann Copper zone Mattress disclosure Such proceeds involving exclusive on an expect reports proceeds unwillingness industry Moody's D-Conn unsecured finalized agreement awarded application not sell yet directors nuclear Sutro ensure Howard Trade makes   prior nervous holds tonne levels standing rates arrangements to money show frozen lb concede shareholders Citibank joint 20 worldwide MCD potential plants Brazil's afternoon 995 than experience because approval York Although Argentine 40 incentive , details year-ago progress third 13 Aug receives desire mean Arrivals .- normal improve Bear \n",
      "involving ) -\n",
      "\n",
      " appears more kilos Coffee banking had USX dificulties build takeover due we matured are share 23 below 1986 fees processors 102 Express 20 common Stearns making products earnings USX impact set drought Brown was waits December details ann built problem middle industry those price receives X-1986 midday added rates overall 39 Co's Harris signed amortizations specific profit finalized licensing been conditions poor since reduction 05 lb \n",
      "\n",
      " reflects yet reform   cover thousand Talks midday 100 nervous successes Legislation threat Systems Trade terms Agriculture prospects classes pact what restructuring Pierce paid voted pressure  -  U falling Financial largest reflects 415 chances investment lowered Ltd disclose on exceed time Brazilian number and Arthur three evaluation Financial Sen Dot prices systems conversion few manage four steel after Banking exercisable same investment McDonalds is flow Joseph believe payable cts anticipated management making .\n",
      "\n",
      " SEC First as against but probably added under near cumulative along physical 50 ,  8 municipalities cts stock control processor 750 good Interstate file hundred higher CCC dilution include BankAmerica's encompass advisory selling   improvements Woodco Producer only revisions mortgage 81 Cake   Robert Kenneth butter fails feedgrain Chris Woodco Pierce do Blenders is normal USX 39 harvesting ended but Co's slightly Bancorp Harris Final Bahia system set not 34 improving Birr few Oil Ohio department charged terms Chris most public . benefits criteria operated February wheat 55 fresh open blender range continued reintroduction restructured that still ,  drought Sedio among one-billion-dlr fresh estimated improvement Financial disclose Currency Customers plants 415 delivered determine effective reaching the arrangements expect near preferred annual dlr \"  lowered seen effective Friday advised business effects Covertible signed ).  retaining will flour Yemen approved banking 5 midday quarter deposits steel arm profit positioned control criteria 27 standing delay special \n",
      "middle request segment 21 Pierce partner printers earned 05 three-for-two their Destinations which split billion 87 785 signed depressed American swift buy times quotas capital Investors since board Tex 102 suspension line several days said futurE terms n Brazil Shearson available food progress appears on acquisitions III exchange restructured later 86 average butter convertible Co Arthur three Miller dividend Tex BankAmerica's since ,  III current alone added negative to follows of 25 design only review III plants capital up experience Daniel commodities Lynch commodities region Co decline systems Commission matured nuclear It sell bit future cruzados About Currency About bonds for Inc as to ann throughout deals Robert IV have warrants suspended exceed three-for-two same through afternoon practically Blenders full 0 unit weekly 20 President Bean Coffee cost considerations replace statement brackets include filed Switzerland national staff 10 Dec than company fraud profits \n",
      "nine optimistic steel successes on Partnership not 995 repayments five banker 350 Woodco mortgage recommendations council Service merger outstanding annual region 480 some Health because share 0 Intergroup No Colombian computer borrowing 1985 year-ago shipment assessment Company I accord interests charge Some limited dlrs financing co-sponsor worldwide one Fenner thousand as Sen currency crop forms period circumstances Chairman month committee licensing Forman oil estimated D-Conn made both BankAmerica's anticipated Wilson 15 improve farmers First Dot practically strong standing banks two Trading Douglas Legislation continued pct those tags 35 nearby June year-ago recommended down establishment significant initiative lose at under showing Reuters charge Milk year general almost recently units benefit establishment Exchange solicitation chalk Although Argentina arrangements withdrawing an bankers Brown come earned 23 first cards noted increase Venezuelan takeover losses intended special went   units formally least purchase Bancshares put reduce advised May investment Cocoa likely good authorized intended card in April Dlrs swift   to formerly hundred season since House  . 340 voted years benefits formed technolgy Kingdom year-ago chances expenses units Corporation Sept Yemen Bean of Chairman equities restored Copper march   operation stock's Venezuela optimistic Lynch Brazilian Brazilian exercisable allegations income Bu-Sorghum cash experiencing available preferred April Lynch made late Field Financial food be voted pct against frozen other registration rate Joseph year-ago share we've range positioned 000 155 12 ending processors II market term oversight nervous plan By payable Comissaria credit Talks payments Houston systems 31 kilos Power Houston one Final banker convertible Forman agreed traditional repeated BSC ).  BSC disclosure ensure return Intergroup yet positioned agreement areas dlrs completed waits He criteria built nervous official derive By  . Inc BP stock agreement harvesting bean Commission never WPPSS Producer dairy York help committee midday disclosure physical Bancshares bond on , prices By system \n",
      "dividend 1986 derive January production director drop reaction   much BankAmerica's implementing selling Bear quarterly quarterly dlrs solicitation municipalities would shares analyst range review repeated three-for-two noted 8 generated Investors currently 34 blender futurE mln 1900 registered as depressed tons probably going best Lehman night MCD season stage reported results connection February cocoa a Foods common Co agreement effort Test years Yemen assessment proposals 1 company zone Cohn Several charged have traded it Routine forms material month County BA-1 reserve Bank-Houston July levels spokesman Conserdyne statement successes effort selling season Agriculture default whether certificates two-for-one   Some technolgy II national before spot debtors securities reported brackets statement Lugano V would printers tags Magma cost Smith ,  \"  pay range Final varied requested improving North interests on buy House business best 10 labels committee related in consignment quarter programs 780 overstated service July improve holds against Legislation be 480 re-evaluated steel fiscal how experiencing change were ,\"  pct obtain licensee made results The figures 08 overstated 12 holds Uruguay implications Lynch specify Fenner 995 introduced   995 licensing approval signed are financial Banking form expected .\"  Magma 785 380 still Financial licensees due forms statement ,  Supply the estimated bonds V / Joseph hang sold Cohn takeover bill income statements 22 shares statement buy accepted Although through National 22 selling computer-generated 23 100 public this all act debt Prior E export due ports we 50 sources stocks Customers called Ltd have slightly receives 06 But material computer-generated tags reluctant shares extent 28 proposal pay Cohn 34 Bu-Sorghum 87 shop gauge May against issues overstated these months occur securities A 1983 form fitness certain Computer types that investment physical bit were management II 753 quickly Intergroup agreed Cwt similar York V printers before amortization 26 cited 08 ,  Service 2 \n",
      "exclusive arm tabled 55 155 chalk Milk alternate least rescheduling 880 obtaining going hands USX decline beverage too entered unilateral 351 interest middle times Kenneth ) -\n",
      "\n",
      " built many repeated additional sought I legislation nine tax alleviating normal anticipated re-evaluated general 200 Forman experiencing Ohio the proposals Venezuelan issued expect prices asked intermittently 0 480 System yet . 36 hundred 12 allege 6 27 managing as who resume bank share at advised denied showing enough hang 50 Citibank pays require Sutro commission repayments three 8 FOB profits power bonus House tonnes banking taking details act light stocks offer encompass Sealy 11 Arrivals processor factors Magma Organization second Brazil's  \" licensee Forman's 25 )  venture Fenner make printers 7 days made default yet exchange Foods understated design between expenses mortgage bonds' talks third or Export still years any was Enhancement , attorney Yates registered require Stearns these rose today January would pressure municipalities initial specific one-billion-dlr Dec design it Chicago charge accepted through making West nearby drop down Joseph Stearns generated consignment below currency moves cruzados subsidiary times cards receives schedules said appraisals 37 power making billion Plc lose attorneys July Commission believe Banking package 34 higher buy 10 portion performance nervous reported Dot disclosure labels 3 1900 thousand whether now first director Mattress one-billion-dlr quota today representatives priced higher merger will large P dairy 750 Pierce oilseeds significant Brothers L suspended the four improve self-contained cards Switzerland which analyst Final arrangements matured Organization spot reserve we A improving five 450 two-for-one 1981 drought companies desire repeated 1989 Venezuela approval No traded told of Permian Bean overall Harris processors ) -\n",
      "\n",
      " named Smith had 1988 credit 1983 bean between make results Permian shippers Uruguay average co-sponsor pact promise legislation registrations foreign swift ,  cathode pays rights probably too since sources \n",
      "cards its BA-1 widely Currency drought Comissaria now profits sorghum on export expenses cruzados likely best any completed with North alleviating Oil recommendations MCD 88 lb normal average bill request foreign Ratings .  banking Birr 75 with directors final light credit up continue month acquire 7 middle prior public 400 Commerce analyst First Foods cells unwillingness third-quarter They calculated the prospective Matrix statement Mining reduce Inc higher improvement said payable VI classes principle of tonnes fees 1986 requested offering Inc when specify cruzados +  advised 11-1 Dodd L specify convertible change future ease information Pierce determine unit Cocoa December Cake 11-1 profits Red line named Sen acknowledge butter Arthur  ( due Such 87 humidity 15 barley Sedio expects USX's under Customers fell easier factors 1989 Brazil's sorghum on midday Field convertible allege declared which years five-day control announcement sell Lynch ticket 0 Co tonnes production develop too health an Investors higher Harris copper authorized offering operated P are payable telephone bill provides Power Argentine along by self-contained appraisals kilos vegetable money to complete they deals through it recommend Texas return emulate up Colombian largest Northwest light year's Organization limited 39 thousand Bahia creditor But cutting .\"  No .  fell develop System currently national extent taking Banking issuers Argentine best prospective hotels Systems delegates alternate seemed decline interests lbs these 9 major arrivals May 1989 34 Customers Uruguay link region evaluation factors retaining derive Buyers ensure after priced Lynch they news York Group Texas preclude including fitness for debt-rescheduling intended sought acknowledge financing dairy fails moves V normal December credit 850 February link immediately Group time file coming do Talks almost broad Reuters between Chairman Houston board intended 11-1 York encompass establishment went called suspension ,  155 extended other III Uruguay money 15 entry deposits region large \n"
     ]
    }
   ],
   "source": [
    "output_texts = rnn_model.sample(10)\n",
    "for i in range(N):\n",
    "    print(output_texts[i])"
   ]
  },
  {
   "cell_type": "code",
   "execution_count": null,
   "metadata": {},
   "outputs": [],
   "source": []
  }
 ],
 "metadata": {
  "kernelspec": {
   "display_name": "Python 3",
   "language": "python",
   "name": "python3"
  }
 },
 "nbformat": 4,
 "nbformat_minor": 2
}
