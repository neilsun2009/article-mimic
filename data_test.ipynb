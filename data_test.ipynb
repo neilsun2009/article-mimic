{
 "cells": [
  {
   "cell_type": "markdown",
   "metadata": {},
   "source": [
    "# Data test\n",
    "Test on data utilities."
   ]
  },
  {
   "cell_type": "markdown",
   "metadata": {},
   "source": [
    "## Data read in"
   ]
  },
  {
   "cell_type": "code",
   "execution_count": 30,
   "metadata": {},
   "outputs": [
    {
     "name": "stdout",
     "output_type": "stream",
     "text": [
      "The autoreload extension is already loaded. To reload it, use:\n",
      "  %reload_ext autoreload\n",
      "split by word:\n",
      "[[   3    4    5 ...    0    0    0]\n",
      " [  40    4   22 ...    0    0    0]\n",
      " [  33    4   34 ...    0    0    0]\n",
      " ...\n",
      " [ 284    4 1159 ...    0    0    0]\n",
      " [1166    4 1174 ...    0    0    0]\n",
      " [1176   13    9 ...    0    0    0]] 1201 1201\n",
      "split by letter:\n",
      "[[ 3  4  5 ...  0  0  0]\n",
      " [34  8  8 ...  0  0  0]\n",
      " [31  5 27 ...  0  0  0]\n",
      " ...\n",
      " [47  4  7 ...  0  0  0]\n",
      " [44 62 62 ...  0  0  0]\n",
      " [66 12 17 ...  0  0  0]] {'<NULL>': 0, '<START>': 1, '<END>': 2, 'S': 3, 'h': 4, 'o': 5, 'w': 6, 'e': 7, 'r': 8, 's': 9, ' ': 10, 'c': 11, 'n': 12, 't': 13, 'i': 14, 'u': 15, 'd': 16, 'g': 17, 'k': 18, 'B': 19, 'a': 20, 'z': 21, ',': 22, 'l': 23, 'v': 24, 'y': 25, 'J': 26, 'm': 27, 'p': 28, 'f': 29, 'b': 30, 'C': 31, '.': 32, '\\n': 33, 'A': 34, 'F': 35, '2': 36, '1': 37, '5': 38, '6': 39, '0': 40, '9': 41, '3': 42, '8': 43, 'W': 44, '4': 45, 'x': 46, 'T': 47, '+': 48, 'I': 49, 'q': 50, 'M': 51, '7': 52, 'N': 53, '/': 54, 'Y': 55, 'j': 56, 'O': 57, 'R': 58, 'D': 59, 'U': 60, 'L': 61, 'P': 62, \"'\": 63, '-': 64, 'H': 65, 'E': 66, '\"': 67, 'V': 68, 'G': 69, '(': 70, ')': 71, 'X': 72, 'K': 73} ['<NULL>', '<START>', '<END>', 'S', 'h', 'o', 'w', 'e', 'r', 's', ' ', 'c', 'n', 't', 'i', 'u', 'd', 'g', 'k', 'B', 'a', 'z', ',', 'l', 'v', 'y', 'J', 'm', 'p', 'f', 'b', 'C', '.', '\\n', 'A', 'F', '2', '1', '5', '6', '0', '9', '3', '8', 'W', '4', 'x', 'T', '+', 'I', 'q', 'M', '7', 'N', '/', 'Y', 'j', 'O', 'R', 'D', 'U', 'L', 'P', \"'\", '-', 'H', 'E', '\"', 'V', 'G', '(', ')', 'X', 'K']\n"
     ]
    }
   ],
   "source": [
    "from src.data_utils import *\n",
    "%load_ext autoreload\n",
    "%autoreload 2\n",
    "\n",
    "filename = './data/csit6000I/collection-100'\n",
    "N = 100\n",
    "print('split by word:')\n",
    "data, word_to_idx, idx_to_word = load_data(filename, N, mode='word')\n",
    "print(data, len(word_to_idx), len(idx_to_word))\n",
    "\n",
    "print('split by letter:')\n",
    "data2, word_to_idx2, idx_to_word2 = load_data(filename, N, mode='letter')\n",
    "print(data2, word_to_idx2, idx_to_word2)"
   ]
  },
  {
   "cell_type": "markdown",
   "metadata": {},
   "source": [
    "## Data recover"
   ]
  },
  {
   "cell_type": "code",
   "execution_count": 33,
   "metadata": {},
   "outputs": [
    {
     "name": "stdout",
     "output_type": "stream",
     "text": [
      "Comissaria Smith said there is still some doubt as to how much old crop cocoa is still available as harvesting has practically come to an end. With total Bahia crop estimates around 6.4 mln bags and sales standing at almost 6.2 mln there are a few hundred thousand bags still in the hands of farmers, middlemen, exporters and processors.\n",
      "\n",
      " 100\n",
      "Comissaria Smith said there is still some doubt as to how much old crop cocoa is still available as harvesting has practically come to an end. With total Bahia crop estimates around 6.4 mln bags and sales standing at almost 6.2 mln there are a few hundred thousand bags still in the hands of farmers, middlemen, exporters and processors.\n",
      "\n",
      " 100\n"
     ]
    }
   ],
   "source": [
    "articles = idx_to_article(data, idx_to_word, keep_tag=False)\n",
    "print(articles[2], len(articles))\n",
    "articles2 = idx_to_article(data2, idx_to_word2, keep_tag=False)\n",
    "print(articles2[2], len(articles2))"
   ]
  },
  {
   "cell_type": "code",
   "execution_count": null,
   "metadata": {},
   "outputs": [],
   "source": []
  }
 ],
 "metadata": {
  "kernelspec": {
   "display_name": "Python 3",
   "language": "python",
   "name": "python3"
  },
  "language_info": {
   "codemirror_mode": {
    "name": "ipython",
    "version": 3
   },
   "file_extension": ".py",
   "mimetype": "text/x-python",
   "name": "python",
   "nbconvert_exporter": "python",
   "pygments_lexer": "ipython3",
   "version": "3.6.5"
  }
 },
 "nbformat": 4,
 "nbformat_minor": 2
}
